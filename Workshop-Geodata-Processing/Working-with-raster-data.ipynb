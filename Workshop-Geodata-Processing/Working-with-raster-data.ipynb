{
 "cells": [
  {
   "cell_type": "code",
   "execution_count": null,
   "id": "1b213cb9-48da-4456-836c-a3000554a2ce",
   "metadata": {},
   "outputs": [],
   "source": [
    "import numpy as np\n",
    "import rasterio\n",
    "import geopandas as gpd\n",
    "from rasterio.enums import Resampling\n",
    "from rasterio.transform import from_origin, Affine\n",
    "from rasterio.mask import mask\n",
    "import geopandas as gpd\n",
    "from scipy.interpolate import griddata\n",
    "from osgeo import gdal, gdalconst\n",
    "import xdem\n",
    "import matplotlib.pyplot as plt"
   ]
  },
  {
   "cell_type": "markdown",
   "id": "8063c97c-9a84-47a0-954a-1f74bb44b814",
   "metadata": {},
   "source": [
    "### 1. Loading and inspecting raster data with rasterio\n",
    "\n",
    "To explore how raster data is stored in python when it is loaded with rasterio by answering the following questions:\n",
    "\n",
    "1) What is stored in dem_src, what is stored in dem2020?\n",
    "2) Explore the metadata. What are the dimensions, coordinate reference system, and resolution of this dataset?\n",
    "3) Can you also derive the no-data value, and the elevation range of the DEM?\n",
    "4) Plot the 2020 DEM (define some reasonable minimum and maximum values). What do you notice about the axes? Where in space is this data?\n",
    "5) Plot the data again, passing plt.imshow() the correct extent."
   ]
  },
  {
   "cell_type": "code",
   "execution_count": null,
   "id": "9aeae3b4-21a7-4af8-8450-56e257ab934c",
   "metadata": {},
   "outputs": [],
   "source": [
    "#load with rasterio\n",
    "with rasterio.open('./data/DEMs/Silvretta-2020-2m.tif') as dem_src:\n",
    "    dem2020 = dem_src.read(1)"
   ]
  },
  {
   "cell_type": "code",
   "execution_count": null,
   "id": "9805883d-6181-47cc-816b-d4472dc8a549",
   "metadata": {},
   "outputs": [],
   "source": [
    "# What datatypes are dem_src and dem2020, and what does dem2020 contain?\n",
    "type(...)"
   ]
  },
  {
   "cell_type": "code",
   "execution_count": null,
   "id": "05db2b02-657c-4473-b3a2-54b235b42ed2",
   "metadata": {},
   "outputs": [],
   "source": [
    "# Explore metadata\n",
    "# What is the file resolution, the image dimensions, the spatial resolution, and the no-data value?\n",
    "dem_src.meta\n",
    " "
   ]
  },
  {
   "cell_type": "code",
   "execution_count": null,
   "id": "c37c3cb4-3482-4a07-aa7d-1a0e8ed8c772",
   "metadata": {},
   "outputs": [],
   "source": [
    "# What is the elevation range of the Digital Elevation Model?"
   ]
  },
  {
   "cell_type": "code",
   "execution_count": null,
   "id": "81c8ac04-3063-4e88-83d9-8475e7e2091f",
   "metadata": {},
   "outputs": [],
   "source": [
    "#mask no-data values for prettyness:\n",
    "if dem_src.nodata is not None:\n",
    "    dem2020 = np.ma.masked_equal(dem2020, dem_src.nodata)"
   ]
  },
  {
   "cell_type": "code",
   "execution_count": null,
   "id": "9f57a37e-cbe5-4e1a-8d71-918dd1d49af3",
   "metadata": {},
   "outputs": [],
   "source": [
    "# Plot elevation using a reasonable range for the elevation. How might you query this if you don't know?\n",
    "f, ax = plt.subplots(figsize=(8,8))\n",
    "cax = ax.imshow(dem2020,\n",
    "           vmin=..., \n",
    "           vmax=..., \n",
    "           cmap='terrain')\n",
    "cbar = f.colorbar(cax, ax=ax, label='Elevation', shrink=0.5)\n",
    "ax.set_title('Silvretta elevation')\n",
    "plt.show()"
   ]
  },
  {
   "cell_type": "code",
   "execution_count": null,
   "id": "21de2bda-8248-4119-add5-c229b00b2107",
   "metadata": {},
   "outputs": [],
   "source": [
    "# Plot elevation so that the data ends up on the right place on Earth!\n",
    "\n",
    "# Use the bounds and attributes thereof to define the spatial extent of the DEM. \n",
    "bounds = dem_src.bounds\n",
    "extent = [..., ..., ..., ...] #left, right, bottom, top"
   ]
  },
  {
   "cell_type": "code",
   "execution_count": null,
   "id": "50e3b138-2b75-47b0-ba04-fcc04533308d",
   "metadata": {},
   "outputs": [],
   "source": [
    "f, ax = plt.subplots(figsize=(8,8))\n",
    "cax = ax.imshow(dem2020,\n",
    "           extent=...,\n",
    "           vmin=..., \n",
    "           vmax=..., \n",
    "           cmap='terrain')\n",
    "cbar = f.colorbar(cax, ax=ax, label='Elevation', shrink=0.5)\n",
    "ax.set_title('Silvretta elevation')\n",
    "plt.show()"
   ]
  },
  {
   "attachments": {},
   "cell_type": "markdown",
   "id": "89966ba5-19cb-4a09-92f4-9502f140d4c1",
   "metadata": {},
   "source": [
    "### 2. Loading, reprojecting, and manipulating raster data with xdem\n",
    "\n",
    "xdem is designed to work with elevation data, but it can also be used for other raster data. It's built on rasterio (and by association gdal), but it's a bit more packaged. Load the same dataset again and\n",
    "\n",
    "1) Use the .plot() method and see how it plots. What do you notice / what is different with regard to using rasterio?\n",
    "2) Take a look a the xdem [terrain attributes](https://xdem.readthedocs.io/en/stable/terrain.html) and try to plot a hillshade.\n",
    "3) Load the ice thickness estimate from [Farinotti et al., 2019](https://www.nature.com/articles/s41561-019-0300-3) for Silvretta glacier and plot it. What do you notice with this?\n",
    "4) Create a plot that shows the ice thickness over the hillshade, including the glacier outline and a colorbar for the ice thickness!\n",
    "5) Already done? Load a second DEM and create and plot a difference map, showing the glacier outlines as well.\n"
   ]
  },
  {
   "cell_type": "code",
   "execution_count": null,
   "id": "7b63c0b0-ce5e-4bb9-a438-dec9345fdfbb",
   "metadata": {},
   "outputs": [],
   "source": [
    "dem = xdem.DEM(...) #load the dataset"
   ]
  },
  {
   "cell_type": "code",
   "execution_count": null,
   "id": "4433feae-7542-419c-938a-0aba6b6541ed",
   "metadata": {},
   "outputs": [],
   "source": [
    "dem.plot() #notice how it already knows where it is in the world"
   ]
  },
  {
   "cell_type": "code",
   "execution_count": null,
   "id": "6f3856d0-9925-423f-bcc3-624d7af0a70c",
   "metadata": {},
   "outputs": [],
   "source": [
    "# Plot a hillshade. You might want to define a more appropriate colormap. \n",
    "... .plot()"
   ]
  },
  {
   "cell_type": "code",
   "execution_count": null,
   "id": "afd9072c-f6d7-442f-b74a-af6b51b10212",
   "metadata": {},
   "outputs": [],
   "source": [
    "# write the hillshade to file for future use!\n",
    "hillshade = ..."
   ]
  },
  {
   "cell_type": "markdown",
   "id": "01f68639-cf44-4f73-bc16-dbf7ab1a7c2d",
   "metadata": {},
   "source": [
    "Let's use xdem to load another raster dataset, namely the ice thickness estimate"
   ]
  },
  {
   "cell_type": "code",
   "execution_count": null,
   "id": "eec0670a-9da5-49ac-a819-3e591082b755",
   "metadata": {},
   "outputs": [],
   "source": [
    "rgi_thickness = xdem.DEM('./data/RGI60-11/RGI60-11.00804_thickness.tif') #Ice thickness estimate for Silvretta glacier from a global consensus estimate"
   ]
  },
  {
   "cell_type": "code",
   "execution_count": null,
   "id": "d3508de4-32a5-4f54-bb79-1feb538282b8",
   "metadata": {},
   "outputs": [],
   "source": [
    "# plot the ice thickness! Can you plot it with the DEM?"
   ]
  },
  {
   "cell_type": "markdown",
   "id": "9818d4dc-8c3a-4621-be37-ce878a667847",
   "metadata": {},
   "source": [
    "What is the problem? Take a look here for a solution (once you have identified the problem ;-) [hint](https://xdem.readthedocs.io/en/stable/gen_modules/xdem.DEM.reproject.html))"
   ]
  },
  {
   "cell_type": "code",
   "execution_count": null,
   "id": "ba424591-ef4d-4e44-83a5-1732bdb3915c",
   "metadata": {},
   "outputs": [],
   "source": [
    "# fix the problem! \n",
    "thickness_lv95 = ..."
   ]
  },
  {
   "cell_type": "code",
   "execution_count": null,
   "id": "0d21686b-77d2-4e0e-aef9-7b853b288bc0",
   "metadata": {},
   "outputs": [],
   "source": [
    "# load our outline \n",
    "outline = ..."
   ]
  },
  {
   "cell_type": "code",
   "execution_count": null,
   "id": "e7de6e90-5ff2-4d4f-bc28-6763aca33415",
   "metadata": {},
   "outputs": [],
   "source": [
    "#plot!\n",
    "f, ax = plt.subplots()\n",
    "hillshade.plot(ax=ax,\n",
    "               cmap=...,\n",
    "               add_cbar=...,\n",
    "               alpha=...)\n",
    "\n",
    "thickness_lv95.plot(ax=ax, \n",
    "              cmap=..., \n",
    "              cbar_title=..., \n",
    "              alpha=...)\n",
    "outline.plot(...)\n",
    "ax.set_xlim(..., ...)\n",
    "ax.set_ylim(..., ...)\n",
    "# add title\n",
    "# add axes labels"
   ]
  },
  {
   "cell_type": "code",
   "execution_count": null,
   "id": "0de94756-88a0-45c4-b135-0833f6ea7f91",
   "metadata": {},
   "outputs": [],
   "source": [
    "# loading a second DEM and differencing them"
   ]
  },
  {
   "cell_type": "code",
   "execution_count": null,
   "id": "d60a30f5-760d-4e9e-bc20-3eff57df55fb",
   "metadata": {},
   "outputs": [],
   "source": [
    "dem2014 = ..."
   ]
  },
  {
   "cell_type": "code",
   "execution_count": null,
   "id": "1c4d9cb1-0ac7-4532-9c87-ea8189c8e71e",
   "metadata": {},
   "outputs": [],
   "source": [
    "dem2014_reproj = ..."
   ]
  },
  {
   "cell_type": "code",
   "execution_count": null,
   "id": "b403a064-b50c-4dc6-9577-7a37865581d2",
   "metadata": {},
   "outputs": [],
   "source": [
    "diff = ..."
   ]
  },
  {
   "cell_type": "code",
   "execution_count": null,
   "id": "f78a7d16-4ecd-4a53-b970-c912be780b75",
   "metadata": {},
   "outputs": [],
   "source": [
    "sgi = ..."
   ]
  },
  {
   "cell_type": "code",
   "execution_count": null,
   "id": "7c1b4628-08a4-4e65-ac6d-aa95810fa630",
   "metadata": {},
   "outputs": [],
   "source": [
    "f, ax = plt.subplots()\n",
    "...\n",
    "...\n",
    "ax.set_xlim(..., ...)\n",
    "ax.set_ylim(..., ...)"
   ]
  },
  {
   "cell_type": "markdown",
   "id": "64cd52d4-ad55-4046-8634-ee6e8b071558",
   "metadata": {},
   "source": [
    "### 3. Extracting data from rasters: points, polygons, multi-polygons\n",
    "\n",
    "Oftentimes, we want to get information from raster datasets that are linked to vector datasets, e.g., values at points or within on or more polygons. Use the following lines of code to \n",
    "\n",
    "1) Extract the minimum, maximum, mean, median, and standard deviation of the ice thickness inside our glacier outline using [rasterio.mask](https://rasterio.readthedocs.io/en/stable/api/rasterio.mask.html)\n",
    "2) Calculate the total ice volume! What additional information do you need?\n",
    "3) Extract the minimum, maximum, mean, median for the sampling points you defined earlier.\n",
    "4) Finally, try to adapt the code to work for a set of polygons (buffers around your points)"
   ]
  },
  {
   "cell_type": "markdown",
   "id": "d45839fb-8965-4b20-abce-542e234ee7a6",
   "metadata": {},
   "source": [
    "The ice thickness dataset is currently an xdem.DEM, which is not (yet) as versatile as their rasterio counterparts. Therefore, xdem has a to_rio_dataset method, which easily allows you to convert to a rasterio dataset and use all the methods there. Therefore, our first step is to convert from xdem.dem.DEM to rasterio.io.DatasetReader"
   ]
  },
  {
   "cell_type": "code",
   "execution_count": null,
   "id": "18230892-6320-4305-9473-7e33f016179f",
   "metadata": {},
   "outputs": [],
   "source": [
    "thickness_rio = thickness_lv95.to_rio_dataset()"
   ]
  },
  {
   "cell_type": "code",
   "execution_count": null,
   "id": "4cdbd613-9a14-40d1-9168-d257558aadca",
   "metadata": {},
   "outputs": [],
   "source": [
    "# use rasterio.mask() to mask \n",
    "masked_data, masked_transform = mask(..., ..., crop=True, nodata=thickness_rio.nodata)"
   ]
  },
  {
   "cell_type": "code",
   "execution_count": null,
   "id": "f6935691-9fdb-40cb-bae8-6b543048823d",
   "metadata": {},
   "outputs": [],
   "source": [
    "# Set the no-data values to NaNs to exclude them from the analysis\n",
    "masked_data = np.ma.masked_equal(masked_data, thickness_rio.nodata)"
   ]
  },
  {
   "cell_type": "code",
   "execution_count": null,
   "id": "5704348b-f62b-4c83-ac3f-39dc86ce1f98",
   "metadata": {},
   "outputs": [],
   "source": [
    "stats = {\n",
    "    'min': masked_data.min(),\n",
    "    'max': ...,\n",
    "    'mean': ...,\n",
    "    'median': np.ma.median(masked_data),\n",
    "    'std': ...\n",
    "}\n",
    "\n",
    "print(\"Zonal Statistics:\")\n",
    "for key, value in stats.items():\n",
    "    print(f\"{key}: {value}\")"
   ]
  },
  {
   "cell_type": "markdown",
   "id": "95e94ee7-60f3-4911-9248-39abb9948a36",
   "metadata": {},
   "source": [
    "Calculate the volume of ice inside the outline! What additional information do you need?"
   ]
  },
  {
   "cell_type": "code",
   "execution_count": null,
   "id": "c94a8a22-42bd-4766-958b-78d464b78de3",
   "metadata": {},
   "outputs": [],
   "source": [
    "V_ice = ..."
   ]
  },
  {
   "cell_type": "markdown",
   "id": "ec2a2d41-ec4e-4f1b-afd2-4a4639c2edc4",
   "metadata": {},
   "source": [
    "Now let's do this for our point dataset:"
   ]
  },
  {
   "cell_type": "code",
   "execution_count": null,
   "id": "5d3a1416-1f2f-4354-8d06-a916e97ca770",
   "metadata": {},
   "outputs": [],
   "source": [
    "# sampling a raster dataset at predefined points or extracting information inside a \n",
    "# load geojson\n",
    "sampling_points = ..."
   ]
  },
  {
   "cell_type": "code",
   "execution_count": null,
   "id": "d365e50a-4be6-4580-922f-eb7073a503be",
   "metadata": {},
   "outputs": [],
   "source": [
    "# Create a list to store raster values at points\n",
    "raster_values_at_points = []\n",
    "\n",
    "# Sample raster at each point\n",
    "for index, point in sampling_points.iterrows():\n",
    "    # Convert point coordinates to pixel coordinates\n",
    "    pixel_coords = rasterio.transform.rowcol(thickness_rio.transform, point.geometry.x, point.geometry.y)\n",
    "\n",
    "    # Get raster value at the pixel coordinate\n",
    "    value = thickness_rio.read(1)[pixel_coords]\n",
    "\n",
    "    # Add value to the list\n",
    "    raster_values_at_points.append(value)\n",
    "\n",
    "# Add raster values to GeoDataFrame\n",
    "sampling_points['ice_thickness'] = raster_values_at_points\n",
    "\n",
    "print(sampling_points)"
   ]
  },
  {
   "cell_type": "markdown",
   "id": "86d98a40-e6a1-4f5c-bd6a-e7ca5e9d4d20",
   "metadata": {},
   "source": [
    "Now we want to get stats for a series of polygons. Let's say we don't trust the individual point measurements, so we put a 50 m buffer around our initial points. "
   ]
  },
  {
   "cell_type": "code",
   "execution_count": null,
   "id": "a60e31cd-d1b2-49f2-8098-7562372ddeb3",
   "metadata": {},
   "outputs": [],
   "source": [
    "sampling_points['buffered'] = ..."
   ]
  },
  {
   "cell_type": "code",
   "execution_count": null,
   "id": "fe81fce7-eb5e-4e31-9c82-9e2c22cebaaf",
   "metadata": {},
   "outputs": [],
   "source": [
    "buffered_points = sampling_points.copy()\n",
    "buffered_points = buffered_points.drop(['geometry','ice_thickness'], axis=1) #drop the point geometry and ice thickness attribute"
   ]
  },
  {
   "cell_type": "code",
   "execution_count": null,
   "id": "81caf3ca-a207-4d20-8ebd-fa9037524860",
   "metadata": {},
   "outputs": [],
   "source": [
    "# Take a look at the new geodataframe.  Can you reconstruct what the past few commands did?\n",
    "buffered_points"
   ]
  },
  {
   "cell_type": "code",
   "execution_count": null,
   "id": "0e9f48d3-12e2-4c97-a20a-07ce5603087b",
   "metadata": {},
   "outputs": [],
   "source": [
    "buffered_points = buffered_points. ... # set the geometry to \"buffered\""
   ]
  },
  {
   "cell_type": "markdown",
   "id": "720f4049-6302-441f-9d0b-8b5e7a335572",
   "metadata": {},
   "source": [
    "Use your knowledge of the single-polygon and multiple point examples to complete the code below:"
   ]
  },
  {
   "cell_type": "code",
   "execution_count": null,
   "id": "a9d6d218-bc1c-4626-b44f-aa341a6dd855",
   "metadata": {},
   "outputs": [],
   "source": [
    "# Create a list to store raster values for polygons\n",
    "raster_stats_for_polygons = ...\n",
    "\n",
    "# iterate over the rows of the dataframe:\n",
    "for index, row in sampling_points.iterrows():\n",
    "\n",
    "    # Run rasterio.mask on the polygon of the current row in the dataframe. Check the documentation if you are unsure about what datatypes \n",
    "    # the arguments reguire. \n",
    "    masked_data, masked_transform = ...\n",
    "    \n",
    "    # Exclude nodata values from the masked array\n",
    "    masked_data = ...\n",
    "    \n",
    "    # Calculate statistics of the masked array\n",
    "    stats = {\n",
    "            ...\n",
    "    }\n",
    "    \n",
    "    # Add statistics to the list\n",
    "    raster_stats_for_polygons.append(stats)\n",
    "\n",
    "# Add raster statistics to GeoDataFrame\n",
    "buffered_points = buffered_points.assign(**{key: [stat[key] for stat in raster_stats_for_polygons] for key in raster_stats_for_polygons[0].keys()})\n",
    "\n",
    "print(buffered_points)"
   ]
  },
  {
   "cell_type": "markdown",
   "id": "2b678e69-a345-4c38-9307-b7f9442845df",
   "metadata": {},
   "source": [
    "### 4. Writing raster data\n",
    "\n",
    "Finally, let's look at how we can write out raster data that we create inside python as a geotiff (e.g. for sharing with others, or reloading for further processing)\n",
    "\n",
    "1) Load the points from glathida that are inside the glacier outline.\n",
    "2) Interpolate the ice thickness between the points.\n",
    "3) Save the interpolated grid as a geotiff"
   ]
  },
  {
   "cell_type": "markdown",
   "id": "4adbce68-df53-4147-aee7-c2e49c0c907b",
   "metadata": {},
   "source": [
    "Let's load some old data that we previously created"
   ]
  },
  {
   "cell_type": "code",
   "execution_count": null,
   "id": "3aaf578f-e117-44c7-a752-7e2419657895",
   "metadata": {},
   "outputs": [],
   "source": [
    "points_inside = gpd.read_file('data/glathida_inside_sgi.geojson')"
   ]
  },
  {
   "cell_type": "code",
   "execution_count": null,
   "id": "7d836795-be01-4462-b6c2-2d4b038815c1",
   "metadata": {},
   "outputs": [],
   "source": [
    "# Extract the bounds of the polygon\n",
    "minx, miny, maxx, maxy = outline.total_bounds\n",
    "# Create an empty grid for interpolation\n",
    "cell_size = 10 #m\n",
    "grid_x, grid_y = np.meshgrid(np.arange(minx, maxx, cell_size), np.arange(maxy, miny, -cell_size)) # for a grid with 10m spacing"
   ]
  },
  {
   "cell_type": "code",
   "execution_count": null,
   "id": "f70a28fc-4001-4ba0-8afd-ed68aa96ac5a",
   "metadata": {},
   "outputs": [],
   "source": [
    "points = np.column_stack([points_inside.geometry.x, points_inside.geometry.y])\n",
    "values = points_inside['THICKNESS'].values"
   ]
  },
  {
   "cell_type": "code",
   "execution_count": null,
   "id": "7774d9c7-0e8d-4348-b48f-f47f1485772e",
   "metadata": {},
   "outputs": [],
   "source": [
    "grid_z = griddata(points, values, (grid_x, grid_y), method='linear') #try also cubic. Which one looks better?"
   ]
  },
  {
   "cell_type": "code",
   "execution_count": null,
   "id": "59ce8b54-b6be-4f3f-9c28-38b23ed27dbf",
   "metadata": {},
   "outputs": [],
   "source": [
    "#check your work!\n",
    "f, ax = plt.subplots()\n",
    "#using imshow\n",
    "ax.imshow(grid_z, extent=[grid_x.min(), grid_x.max(), grid_y.min(), grid_y.max()], cmap='Blues')\n",
    "#using contour\n",
    "#ax.contourf(grid_x, grid_y, grid_z, cmap='Blues')\n",
    "\n",
    "#add points from measurements\n",
    "d = plt.scatter(\n",
    "    points_inside.geometry.x,  # x-coordinates of points\n",
    "    points_inside.geometry.y,  # y-coordinates of points\n",
    "    c=points_inside['THICKNESS'],  # values to use for coloring\n",
    "    cmap='Blues',  # colormap\n",
    "    s=75,  # size of markers\n",
    "    edgecolor='none',  # edge color of markers\n",
    "    alpha=1  # transparency\n",
    ")\n",
    "outline.plot(ax=ax, facecolor='None')"
   ]
  },
  {
   "cell_type": "code",
   "execution_count": null,
   "id": "e5011aff-5fa8-4344-b80b-459198169f9c",
   "metadata": {},
   "outputs": [],
   "source": [
    "# set the affine transform parameters\n",
    "pixel_width = cell_size\n",
    "pixel_height = cell_size\n",
    "transform = Affine.translation(grid_x.min(), grid_y.max()) * Affine.scale(pixel_width, -pixel_height)"
   ]
  },
  {
   "cell_type": "code",
   "execution_count": null,
   "id": "9e55d84a-4b3a-43db-b22b-f09d646f264a",
   "metadata": {},
   "outputs": [],
   "source": [
    "# set the relevant metadata\n",
    "metadata = {\n",
    "    'driver': 'GTiff',\n",
    "    'dtype': 'float32',\n",
    "    'nodata': ..., # set appropriate no-data value\n",
    "    'width': grid_z.shape[1],\n",
    "    'height': grid_z.shape[0],\n",
    "    'count': 1,\n",
    "    'crs': ...,  # Example EPSG code, replace with appropriate CRS\n",
    "    'transform': transform\n",
    "}"
   ]
  },
  {
   "cell_type": "code",
   "execution_count": null,
   "id": "f4a71c2c-03f5-4272-be19-2b9a469a2099",
   "metadata": {},
   "outputs": [],
   "source": [
    "with rasterio.open('data/glathida_interpolated.tif', 'w', **metadata) as dst:\n",
    "    dst.write(grid_z.astype('float32'), 1)\n"
   ]
  }
 ],
 "metadata": {
  "kernelspec": {
   "display_name": "Python 3 (ipykernel)",
   "language": "python",
   "name": "python3"
  },
  "language_info": {
   "codemirror_mode": {
    "name": "ipython",
    "version": 3
   },
   "file_extension": ".py",
   "mimetype": "text/x-python",
   "name": "python",
   "nbconvert_exporter": "python",
   "pygments_lexer": "ipython3",
   "version": "3.11.9"
  }
 },
 "nbformat": 4,
 "nbformat_minor": 5
}
